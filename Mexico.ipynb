{
 "cells": [
  {
   "cell_type": "code",
   "execution_count": 1,
   "id": "ab991d1a",
   "metadata": {},
   "outputs": [],
   "source": [
    "from selenium import webdriver\n",
    "from selenium.webdriver.common.keys import Keys\n",
    "from selenium.webdriver.common.by import By\n",
    "from selenium.webdriver.support.ui import WebDriverWait\n",
    "from selenium.webdriver.support import expected_conditions as EC\n",
    "from selenium.webdriver.chrome.service import Service\n",
    "from webdriver_manager.chrome import ChromeDriverManager\n",
    "from selenium.webdriver.chrome.options import Options\n",
    "from time import sleep"
   ]
  },
  {
   "cell_type": "code",
   "execution_count": 46,
   "id": "58c531bf",
   "metadata": {},
   "outputs": [],
   "source": [
    "url = 'https://citas.sre.gob.mx'\n",
    "chrome_options = Options()\n",
    "chrome_options.add_argument(\"--start-maximized\")\n",
    "driver = webdriver.Chrome(service=Service(ChromeDriverManager().install()) , options=chrome_options)\n",
    "driver.get(url)\n",
    "\n",
    "my_email = 'khavari.7878@yahoo.com'\n",
    "my_password = 'aA123456789@'\n",
    "\n",
    "en_xpath = '//*[@id=\"subenlaces\"]/ul[4]/a'\n",
    "btn_consular = '/html/body/div[2]/div/main/div/div/div/div/div[1]/div/div/div/div/div/div/div/div[3]/div/div/div/button[2]'\n",
    "#btn_mexico   = '/html/body/div[2]/div/main/div/div/div/div/div[1]/div/div/div/div/div/div/div/div[3]/div/div/div/button[1]'\n",
    "email_xpath = '/html/body/div[2]/div/main/div/div/div/div/div[4]/div[2]/div[2]/div/div/div/div[2]/form/div[1]/div/input'\n",
    "password_xpath = '/html/body/div[2]/div/main/div/div/div/div/div[4]/div[2]/div[2]/div/div/div/div[2]/form/div[2]/div/input'\n",
    "btn_check = '/html/body/div[2]/div/main/div/div/div/div/div[4]/div[2]/div[2]/div/div/div/div[2]/form/div[4]/div/div/label/input'\n",
    "btn_warning1 = '//div[@class=\"modal-body\"]/a/span/*[name()=\"svg\"]'\n",
    "btn_start = '//div[@class=\"row\"]/div[2]'\n",
    "btn_warning2 = '//div[@class=\"form-group\"]/a/span/*[name()=\"svg\"]'\n",
    "btn_schedule = '/html/body/div[2]/div[3]/div[3]/div[5]/a'\n",
    "btn_warning3 = '//div[@class=\"form-group\"]/a/span/*[name()=\"svg\"]'\n",
    "WebDriverWait(driver, 20).until(EC.element_to_be_clickable((By.XPATH, en_xpath))).click()\n",
    "WebDriverWait(driver, 20).until(EC.element_to_be_clickable((By.XPATH, btn_consular))).click()\n",
    "WebDriverWait(driver, 20).until(EC.element_to_be_clickable((By.XPATH, email_xpath))).send_keys(my_email)\n",
    "WebDriverWait(driver, 20).until(EC.element_to_be_clickable((By.XPATH, password_xpath))).send_keys(my_password)\n",
    "WebDriverWait(driver, 20).until(EC.element_to_be_clickable((By.XPATH, btn_check))).click()\n",
    "WebDriverWait(driver, 20).until(EC.element_to_be_clickable((By.XPATH, btn_warning1))).click()\n",
    "WebDriverWait(driver, 20).until(EC.element_to_be_clickable((By.XPATH, btn_start))).click()\n",
    "WebDriverWait(driver, 20).until(EC.url_changes(\"https://citas.sre.gob.mx/inbox\"))\n",
    "WebDriverWait(driver, 20).until(EC.presence_of_element_located((By.XPATH, btn_warning2))).click()\n",
    "WebDriverWait(driver, 20).until(EC.element_to_be_clickable((By.XPATH, btn_schedule))).click()\n",
    "WebDriverWait(driver, 20).until(EC.url_changes(\"https://citas.sre.gob.mx/appointment\"))\n",
    "driver.implicitly_wait(10)\n",
    "WebDriverWait(driver, 20).until(EC.presence_of_element_located((By.XPATH, btn_warning3))).click()"
   ]
  },
  {
   "cell_type": "code",
   "execution_count": null,
   "id": "d500a665",
   "metadata": {},
   "outputs": [],
   "source": []
  },
  {
   "cell_type": "code",
   "execution_count": null,
   "id": "480ba1ff",
   "metadata": {},
   "outputs": [],
   "source": []
  }
 ],
 "metadata": {
  "kernelspec": {
   "display_name": "Python 3 (ipykernel)",
   "language": "python",
   "name": "python3"
  },
  "language_info": {
   "codemirror_mode": {
    "name": "ipython",
    "version": 3
   },
   "file_extension": ".py",
   "mimetype": "text/x-python",
   "name": "python",
   "nbconvert_exporter": "python",
   "pygments_lexer": "ipython3",
   "version": "3.10.6"
  }
 },
 "nbformat": 4,
 "nbformat_minor": 5
}
